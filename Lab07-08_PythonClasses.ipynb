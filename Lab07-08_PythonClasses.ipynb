{
 "cells": [
  {
   "cell_type": "code",
   "execution_count": 1,
   "metadata": {},
   "outputs": [],
   "source": [
    "import random"
   ]
  },
  {
   "cell_type": "code",
   "execution_count": 2,
   "metadata": {},
   "outputs": [],
   "source": [
    "class MenuItem:\n",
    "    def __init__(self, name, price):\n",
    "        self.name = name\n",
    "        self.price = price\n",
    "    \n",
    "    def __str__(self):\n",
    "        return f\"{self.name}, price: {self.price}\""
   ]
  },
  {
   "cell_type": "code",
   "execution_count": 3,
   "metadata": {},
   "outputs": [],
   "source": [
    "class Menu:\n",
    "    \n",
    "    def __init__(self, menu_items=None):\n",
    "        self.menu_items = {} if menu_items is None else menu_items\n",
    "        self.num_items = len(self.menu_items)\n",
    "    \n",
    "    def add_menu_item(self, name, price):\n",
    "        item_id = self.num_items\n",
    "        self.num_items += 1\n",
    "        self.menu_items[item_id] = MenuItem(name, price)\n",
    "    \n",
    "    def remove_menu_item(self, item_id):\n",
    "        if item_id not in self.menu_items.keys():\n",
    "            raise ValueError(f\"{item_id} does not exist in menu\")\n",
    "            \n",
    "        self.menu_items.pop(item_id)\n",
    "        self.num_items -= 1\n",
    "    \n",
    "    def print_menu(self):\n",
    "        for item_id, item in self.menu_items.items():\n",
    "            print(f\"{item_id}: {item}\")"
   ]
  },
  {
   "cell_type": "code",
   "execution_count": 4,
   "metadata": {},
   "outputs": [],
   "source": [
    "class Restaurant:\n",
    "    \n",
    "    def __init__(self, name, address, menu=None):\n",
    "        self.name = name\n",
    "        self.address = address\n",
    "        self.menu = Menu() if menu is None else menu\n",
    "    \n",
    "    def add_menu_item(self, name, price):\n",
    "        self.menu.add_menu_item(name, price)\n",
    "    \n",
    "    def print_menu(self):\n",
    "        self.menu.print_menu()"
   ]
  },
  {
   "cell_type": "code",
   "execution_count": 5,
   "metadata": {},
   "outputs": [],
   "source": [
    "class OrderLineItem:\n",
    "    \n",
    "    def __init__(self, item, quantity):\n",
    "        self.item = item\n",
    "        self.quantity = quantity\n",
    "        self.sub_total = self.item.price * self.quantity\n",
    "        \n",
    "    def __str__(self):\n",
    "        return f\"Name: {self.item.name}, quantity: {self.quantity}, sub_total: {self.sub_total}\"\n"
   ]
  },
  {
   "cell_type": "code",
   "execution_count": 6,
   "metadata": {},
   "outputs": [],
   "source": [
    "class Order:\n",
    "    \n",
    "    def __init__(self, restaurant_id, customer_ids):\n",
    "        self.order_id = random.randint(0, 100)\n",
    "        self.restaurant_id = restaurant_id\n",
    "        self.customer_ids = customer_ids\n",
    "        self.line_items = []\n",
    "        \n",
    "    def add_item(self, item_id, quantity=1):\n",
    "        self.line_items.append(\n",
    "            OrderLineItem(item_id, quantity)\n",
    "        )\n",
    "    \n",
    "    def printReciept(self):\n",
    "        for item in self.line_items:\n",
    "            print(item)"
   ]
  },
  {
   "cell_type": "code",
   "execution_count": 7,
   "metadata": {},
   "outputs": [],
   "source": [
    "test = Order(restaurant_id=\"a\", customer_ids=['a', 'b'])"
   ]
  },
  {
   "cell_type": "code",
   "execution_count": 8,
   "metadata": {},
   "outputs": [
    {
     "data": {
      "text/plain": [
       "['a', 'b']"
      ]
     },
     "execution_count": 8,
     "metadata": {},
     "output_type": "execute_result"
    }
   ],
   "source": [
    "test.customer_ids"
   ]
  },
  {
   "cell_type": "code",
   "execution_count": 9,
   "metadata": {},
   "outputs": [],
   "source": [
    "res = Restaurant('res', 'somewhere')"
   ]
  },
  {
   "cell_type": "code",
   "execution_count": 10,
   "metadata": {},
   "outputs": [],
   "source": [
    "res.add_menu_item(\"Hamburger\", 2.99),\n",
    "res.add_menu_item(\"Fries\", 2.99)"
   ]
  },
  {
   "cell_type": "code",
   "execution_count": 11,
   "metadata": {},
   "outputs": [
    {
     "data": {
      "text/plain": [
       "{0: <__main__.MenuItem at 0x7f122c2082e0>,\n",
       " 1: <__main__.MenuItem at 0x7f122c208ca0>}"
      ]
     },
     "execution_count": 11,
     "metadata": {},
     "output_type": "execute_result"
    }
   ],
   "source": [
    "res.menu.menu_items"
   ]
  },
  {
   "cell_type": "code",
   "execution_count": 12,
   "metadata": {},
   "outputs": [
    {
     "name": "stdout",
     "output_type": "stream",
     "text": [
      "0: Hamburger, price: 2.99\n",
      "1: Fries, price: 2.99\n"
     ]
    }
   ],
   "source": [
    "res.print_menu()"
   ]
  },
  {
   "cell_type": "code",
   "execution_count": null,
   "metadata": {},
   "outputs": [],
   "source": []
  }
 ],
 "metadata": {
  "kernelspec": {
   "display_name": "Python 3",
   "language": "python",
   "name": "python3"
  },
  "language_info": {
   "codemirror_mode": {
    "name": "ipython",
    "version": 3
   },
   "file_extension": ".py",
   "mimetype": "text/x-python",
   "name": "python",
   "nbconvert_exporter": "python",
   "pygments_lexer": "ipython3",
   "version": "3.8.5"
  }
 },
 "nbformat": 4,
 "nbformat_minor": 4
}
